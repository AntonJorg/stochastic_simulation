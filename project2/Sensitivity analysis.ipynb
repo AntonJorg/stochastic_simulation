{
 "cells": [
  {
   "cell_type": "code",
   "execution_count": 1,
   "id": "1ce44d3b",
   "metadata": {},
   "outputs": [],
   "source": [
    "from simulation_loop import SimulationParams, simulate_many, Buffer, simulate_system\n",
    "from scipy.stats import norm, uniform, gamma, expon\n",
    "import numpy as np\n",
    "import matplotlib.pyplot as plt\n",
    "from collections import defaultdict\n",
    "import pandas as pd\n",
    "np.random.seed(42)"
   ]
  },
  {
   "cell_type": "code",
   "execution_count": 2,
   "id": "98f847c0",
   "metadata": {},
   "outputs": [],
   "source": [
    "p_ = 0.55\n",
    "t_ = np.linspace(0, 24, 1000)\n",
    "\n",
    "class ArrivalDistribution:\n",
    "    first_round_time = 9\n",
    "    second_round_time = 15\n",
    "    def __init__(self, p=0.5, offset=0):\n",
    "        self.p = p\n",
    "        self.first_peak = norm(loc=10 + offset, scale=1)\n",
    "        self.second_peak = norm(loc=15 + offset, scale=1.5)\n",
    "\n",
    "    def pdf(self, x):\n",
    "        return self.p * self.first_peak.pdf(x) + (1 - self.p) * self.second_peak.pdf(x)\n",
    "\n",
    "    def rvs(self, size=()):\n",
    "        s1 = self.first_peak.rvs(size=size)\n",
    "        s2 = self.second_peak.rvs(size=size)\n",
    "        choice = uniform.rvs(size=size) < self.p\n",
    "        return np.where(choice, s1, s2)\n",
    "\n",
    "discharge_dist = ArrivalDistribution()\n",
    "admission_dist = ArrivalDistribution(offset=1)\n",
    "\n",
    "arrivals = admission_dist.rvs(size=1000)\n",
    "discharges = discharge_dist.rvs(size=1000)\n",
    "\n",
    "def service_time_dist():\n",
    "    service_min_time = 5/60\n",
    "    return service_min_time + expon(scale=1/60).rvs()\n",
    "\n",
    "\n",
    "def transport_time_dist(distance_meters, break_down_prob=0):\n",
    "    if distance_meters == 0:\n",
    "        return 0\n",
    "    speed_meters_per_second = 1.4\n",
    "    transport_time_seconds = gamma(a=distance_meters, scale=1/speed_meters_per_second).rvs()\n",
    "    time_hours = transport_time_seconds / 3600\n",
    "\n",
    "    # Add breakdown delay with specified probability\n",
    "    if break_down_prob > 0 and np.random.rand() < break_down_prob:\n",
    "        time_hours += 6  # 6 hours of breakdown\n",
    "\n",
    "    return time_hours\n",
    "\n",
    "distances = np.array([\n",
    "    [10, 50, 175, 150],\n",
    "    [50, 10, 0, 0],\n",
    "    [175, 0, 10, 0],\n",
    "    [150, 0, 0, 10],\n",
    "])\n",
    "\n",
    "n_elevators = 3\n",
    "discharge_dist = lambda: ArrivalDistribution().rvs(size=200)"
   ]
  },
  {
   "cell_type": "markdown",
   "id": "3b000077",
   "metadata": {},
   "source": [
    "# Sensitivity Analysis - Base case"
   ]
  },
  {
   "cell_type": "markdown",
   "id": "08d6a1c4",
   "metadata": {},
   "source": [
    "# Increasing the number of bots"
   ]
  },
  {
   "cell_type": "code",
   "execution_count": null,
   "id": "786422c1",
   "metadata": {},
   "outputs": [
    {
     "name": "stderr",
     "output_type": "stream",
     "text": [
      "100%|██████████| 2/2 [00:01<00:00,  1.10it/s]\n"
     ]
    },
    {
     "name": "stdout",
     "output_type": "stream",
     "text": [
      "[[89.99 14.   17.97 17.97]\n",
      " [ 1.    1.    1.    1.  ]]\n"
     ]
    },
    {
     "name": "stderr",
     "output_type": "stream",
     "text": [
      "100%|██████████| 2/2 [00:01<00:00,  1.19it/s]\n"
     ]
    },
    {
     "name": "stdout",
     "output_type": "stream",
     "text": [
      "[[105.94   5.95   4.98   5.96]\n",
      " [  1.     1.99   1.99   1.99]]\n"
     ]
    },
    {
     "name": "stderr",
     "output_type": "stream",
     "text": [
      "100%|██████████| 2/2 [00:01<00:00,  1.20it/s]\n"
     ]
    },
    {
     "name": "stdout",
     "output_type": "stream",
     "text": [
      "[[100.99   1.99   2.     2.  ]\n",
      " [  1.     1.99   1.99   1.99]]\n"
     ]
    },
    {
     "name": "stderr",
     "output_type": "stream",
     "text": [
      "100%|██████████| 2/2 [00:01<00:00,  1.18it/s]\n"
     ]
    },
    {
     "name": "stdout",
     "output_type": "stream",
     "text": [
      "[[105.96   1.99   2.99   2.  ]\n",
      " [  1.     2.     1.99   1.99]]\n"
     ]
    },
    {
     "name": "stderr",
     "output_type": "stream",
     "text": [
      "100%|██████████| 2/2 [00:01<00:00,  1.06it/s]"
     ]
    },
    {
     "name": "stdout",
     "output_type": "stream",
     "text": [
      "[[106.99   1.     1.99   2.98]\n",
      " [  1.     2.     1.99   1.99]]\n"
     ]
    },
    {
     "name": "stderr",
     "output_type": "stream",
     "text": [
      "\n"
     ]
    }
   ],
   "source": [
    "robot_range = [1, 2, 3, 5, 10]\n",
    "n_iters = 2\n",
    "\n",
    "for n_robots in robot_range:\n",
    "    params = SimulationParams(\n",
    "        discharge_dist,\n",
    "        service_time_dist,\n",
    "        transport_time_dist,\n",
    "        distances,\n",
    "        arrival_weights=np.ones(n_elevators) / n_elevators,\n",
    "        discharge_weights=np.ones(n_elevators) / n_elevators,\n",
    "        n_elevators=n_elevators,\n",
    "        n_robots=n_robots,\n",
    "    )\n",
    "\n",
    "    buffers, *_ = simulate_many(params, n_iters=n_iters)\n",
    "\n",
    "    # Compute max buffer size per run\n",
    "\n",
    "    areas = np.percentile(buffers.max(axis=(3)), 99, axis=0) \n",
    "    print(areas)"
   ]
  },
  {
   "cell_type": "markdown",
   "id": "fc8671a1",
   "metadata": {},
   "source": [
    "# Changing $\\lambda$"
   ]
  },
  {
   "cell_type": "code",
   "execution_count": 11,
   "id": "57ebbba0",
   "metadata": {},
   "outputs": [
    {
     "name": "stderr",
     "output_type": "stream",
     "text": [
      "100%|██████████| 5/5 [00:04<00:00,  1.15it/s]\n"
     ]
    },
    {
     "name": "stdout",
     "output_type": "stream",
     "text": [
      "[[97.96 14.   15.92 16.96]\n",
      " [ 1.   46.92 46.92 46.96]]\n"
     ]
    },
    {
     "name": "stderr",
     "output_type": "stream",
     "text": [
      "100%|██████████| 5/5 [00:04<00:00,  1.10it/s]\n"
     ]
    },
    {
     "name": "stdout",
     "output_type": "stream",
     "text": [
      "[[94.96 17.92 17.96 17.96]\n",
      " [ 1.   11.96 11.96 12.  ]]\n"
     ]
    },
    {
     "name": "stderr",
     "output_type": "stream",
     "text": [
      "100%|██████████| 5/5 [00:04<00:00,  1.06it/s]\n"
     ]
    },
    {
     "name": "stdout",
     "output_type": "stream",
     "text": [
      "[[99.76 18.76 19.84 18.96]\n",
      " [ 1.    2.    2.96  2.  ]]\n"
     ]
    },
    {
     "name": "stderr",
     "output_type": "stream",
     "text": [
      "100%|██████████| 5/5 [00:04<00:00,  1.06it/s]\n"
     ]
    },
    {
     "name": "stdout",
     "output_type": "stream",
     "text": [
      "[[93.88 14.96 15.96 16.88]\n",
      " [ 1.    1.    1.    1.  ]]\n"
     ]
    },
    {
     "name": "stderr",
     "output_type": "stream",
     "text": [
      "100%|██████████| 5/5 [00:04<00:00,  1.09it/s]"
     ]
    },
    {
     "name": "stdout",
     "output_type": "stream",
     "text": [
      "[[96.8  13.   17.   18.96]\n",
      " [ 1.    0.96  1.    1.  ]]\n"
     ]
    },
    {
     "name": "stderr",
     "output_type": "stream",
     "text": [
      "\n"
     ]
    }
   ],
   "source": [
    "lambdas = [0.01, 0.1, 1, 10, 100]  # lambda_arrival values\n",
    "scales = 1 / np.array(lambdas)\n",
    "n_iters = 5  # number of simulation runs\n",
    "\n",
    "for lam in scales:\n",
    "    params = SimulationParams(\n",
    "        discharge_dist,\n",
    "        service_time_dist,\n",
    "        transport_time_dist,\n",
    "        distances,\n",
    "        arrival_weights=np.ones(n_elevators) / n_elevators,\n",
    "        discharge_weights=np.ones(n_elevators) / n_elevators,\n",
    "        n_elevators=n_elevators,\n",
    "        n_robots=1,\n",
    "    )\n",
    "\n",
    "    # Run simulations\n",
    "    buffers, *_ = simulate_many(params, n_iters=n_iters, lambda_arrival=lam)\n",
    "\n",
    "    areas = np.percentile(buffers.max(axis=(3)), 99, axis=0) \n",
    "    print(areas)"
   ]
  },
  {
   "cell_type": "markdown",
   "id": "9639ef26",
   "metadata": {},
   "source": [
    "# Random robot breakdowns"
   ]
  },
  {
   "cell_type": "code",
   "execution_count": null,
   "id": "f15e1834",
   "metadata": {},
   "outputs": [
    {
     "name": "stderr",
     "output_type": "stream",
     "text": [
      "100%|██████████| 5/5 [00:04<00:00,  1.16it/s]\n"
     ]
    },
    {
     "name": "stdout",
     "output_type": "stream",
     "text": [
      "[[98.8  16.   18.76 15.92]\n",
      " [ 1.    2.    2.    2.96]]\n"
     ]
    },
    {
     "name": "stderr",
     "output_type": "stream",
     "text": [
      "100%|██████████| 5/5 [00:04<00:00,  1.25it/s]\n"
     ]
    },
    {
     "name": "stdout",
     "output_type": "stream",
     "text": [
      "[[45.56 67.88 63.88 66.84]\n",
      " [46.48  1.    1.    1.  ]]\n"
     ]
    },
    {
     "name": "stderr",
     "output_type": "stream",
     "text": [
      "100%|██████████| 5/5 [00:04<00:00,  1.25it/s]\n"
     ]
    },
    {
     "name": "stdout",
     "output_type": "stream",
     "text": [
      "[[19.68 67.8  76.48 64.96]\n",
      " [22.6   1.96  1.96  1.96]]\n"
     ]
    },
    {
     "name": "stderr",
     "output_type": "stream",
     "text": [
      "100%|██████████| 5/5 [00:04<00:00,  1.19it/s]"
     ]
    },
    {
     "name": "stdout",
     "output_type": "stream",
     "text": [
      "[[ 8.92 68.88 82.84 68.8 ]\n",
      " [11.88  1.96  1.96  1.96]]\n"
     ]
    },
    {
     "name": "stderr",
     "output_type": "stream",
     "text": [
      "\n"
     ]
    }
   ],
   "source": [
    "breakdown_probs = [0, 1/100, 2/100, 5/100]\n",
    "\n",
    "n_iters = 5  # Number of simulation runs per case\n",
    "\n",
    "\n",
    "for prob in breakdown_probs:\n",
    "\n",
    "    def transport_time_dist(distance_meters):\n",
    "        if distance_meters == 0:\n",
    "            return 0\n",
    "        speed_mps = 1.4\n",
    "        transport_time = gamma(a=distance_meters, scale=1 / speed_mps).rvs()\n",
    "        time_hours = transport_time / 3600\n",
    "        if np.random.rand() < prob:\n",
    "            time_hours += 6  # Add 6 hours if breakdown occurs\n",
    "        return time_hours\n",
    "\n",
    "    params = SimulationParams(\n",
    "        discharge_dist,\n",
    "        service_time_dist,\n",
    "        transport_time_dist,\n",
    "        distances,\n",
    "        arrival_weights=np.ones(n_elevators) / n_elevators,\n",
    "        discharge_weights=np.ones(n_elevators) / n_elevators,\n",
    "        n_elevators=n_elevators,\n",
    "        n_robots=1,\n",
    "    )\n",
    "\n",
    "    # Run simulations\n",
    "    buffers, *_ = simulate_many(params, n_iters=n_iters)\n",
    "\n",
    "    areas = np.percentile(buffers.max(axis=(3)), 99, axis=0) \n",
    "    print(areas)"
   ]
  }
 ],
 "metadata": {
  "kernelspec": {
   "display_name": "Python 3",
   "language": "python",
   "name": "python3"
  },
  "language_info": {
   "codemirror_mode": {
    "name": "ipython",
    "version": 3
   },
   "file_extension": ".py",
   "mimetype": "text/x-python",
   "name": "python",
   "nbconvert_exporter": "python",
   "pygments_lexer": "ipython3",
   "version": "3.12.4"
  }
 },
 "nbformat": 4,
 "nbformat_minor": 5
}
