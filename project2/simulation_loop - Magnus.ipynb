{
 "cells": [
  {
   "cell_type": "code",
   "execution_count": 5,
   "id": "1ce44d3b",
   "metadata": {},
   "outputs": [],
   "source": [
    "from simulation_loop import SimulationParams, simulate_many\n",
    "\n",
    "from scipy.stats import norm, expon, uniform, gamma\n",
    "import numpy as np\n",
    "import pandas as pd\n",
    "import matplotlib.pyplot as plt\n",
    "from collections import defaultdict\n",
    "np.random.seed(42)"
   ]
  },
  {
   "cell_type": "code",
   "execution_count": 11,
   "id": "98f847c0",
   "metadata": {},
   "outputs": [],
   "source": [
    "class ArrivalDistribution:\n",
    "    first_round_time = 9\n",
    "    second_round_time = 15\n",
    "    def __init__(self, p=0.5, offset=0):\n",
    "        self.p = p\n",
    "        self.first_peak = norm(loc=10 + offset, scale=1)\n",
    "        self.second_peak = norm(loc=15 + offset, scale=1.5)\n",
    "\n",
    "    def pdf(self, x):\n",
    "        return self.p * self.first_peak.pdf(x) + (1 - self.p) * self.second_peak.pdf(x)\n",
    "\n",
    "    def rvs(self, size=()):\n",
    "        s1 = self.first_peak.rvs(size=size)\n",
    "        s2 = self.second_peak.rvs(size=size)\n",
    "        choice = uniform.rvs(size=size) < self.p\n",
    "        return np.where(choice, s1, s2)\n",
    "    \n",
    "discharge_dist = ArrivalDistribution(p=0.55, offset=0)\n",
    "arrival_dist = ArrivalDistribution(p=0.55, offset=1)\n",
    "\n",
    "def service_time_dist():\n",
    "    return 5/60 + expon(scale=1/60).rvs()\n",
    "\n",
    "def transport_time_dist(distance_meters):\n",
    "    if distance_meters == 0:\n",
    "        return 0\n",
    "    speed = 1.4\n",
    "    return (distance_meters / speed + expon(scale=1).rvs()) / 3600\n",
    "\n",
    "distances = np.array([[10, 175], [175, 10]])\n",
    "arrival_weights = np.array([1.0])\n",
    "discharge_weights = np.array([1.0])"
   ]
  },
  {
   "cell_type": "markdown",
   "id": "3b000077",
   "metadata": {},
   "source": [
    "# Sentivity Analysis : Number of bots"
   ]
  },
  {
   "cell_type": "code",
   "execution_count": 12,
   "id": "5621054f",
   "metadata": {},
   "outputs": [
    {
     "ename": "TypeError",
     "evalue": "SimulationParams.__init__() missing 1 required positional argument: 'arrival_dist'",
     "output_type": "error",
     "traceback": [
      "\u001b[1;31m---------------------------------------------------------------------------\u001b[0m",
      "\u001b[1;31mTypeError\u001b[0m                                 Traceback (most recent call last)",
      "Cell \u001b[1;32mIn[12], line 1\u001b[0m\n\u001b[1;32m----> 1\u001b[0m params \u001b[38;5;241m=\u001b[39m \u001b[43mSimulationParams\u001b[49m\u001b[43m(\u001b[49m\n\u001b[0;32m      2\u001b[0m \u001b[43m    \u001b[49m\u001b[43mdischarge_dist\u001b[49m\u001b[38;5;241;43m=\u001b[39;49m\u001b[43mdischarge_dist\u001b[49m\u001b[43m,\u001b[49m\n\u001b[0;32m      3\u001b[0m \u001b[43m    \u001b[49m\u001b[43mservice_time_dist\u001b[49m\u001b[38;5;241;43m=\u001b[39;49m\u001b[43mservice_time_dist\u001b[49m\u001b[43m,\u001b[49m\n\u001b[0;32m      4\u001b[0m \u001b[43m    \u001b[49m\u001b[43mtransport_time_dist\u001b[49m\u001b[38;5;241;43m=\u001b[39;49m\u001b[43mtransport_time_dist\u001b[49m\u001b[43m,\u001b[49m\n\u001b[0;32m      5\u001b[0m \u001b[43m    \u001b[49m\u001b[43mdistance_matrix\u001b[49m\u001b[38;5;241;43m=\u001b[39;49m\u001b[43mdistances\u001b[49m\u001b[43m,\u001b[49m\n\u001b[0;32m      6\u001b[0m \u001b[43m    \u001b[49m\u001b[43marrival_weights\u001b[49m\u001b[38;5;241;43m=\u001b[39;49m\u001b[43marrival_weights\u001b[49m\u001b[43m,\u001b[49m\n\u001b[0;32m      7\u001b[0m \u001b[43m    \u001b[49m\u001b[43mdischarge_weights\u001b[49m\u001b[38;5;241;43m=\u001b[39;49m\u001b[43mdischarge_weights\u001b[49m\u001b[43m,\u001b[49m\n\u001b[0;32m      8\u001b[0m \u001b[43m    \u001b[49m\u001b[43mn_elevators\u001b[49m\u001b[38;5;241;43m=\u001b[39;49m\u001b[38;5;241;43m1\u001b[39;49m\u001b[43m,\u001b[49m\n\u001b[0;32m      9\u001b[0m \u001b[43m    \u001b[49m\u001b[43mn_robots\u001b[49m\u001b[38;5;241;43m=\u001b[39;49m\u001b[38;5;241;43m10\u001b[39;49m\n\u001b[0;32m     10\u001b[0m \u001b[43m)\u001b[49m\n\u001b[0;32m     12\u001b[0m \u001b[38;5;66;03m# Run simulation\u001b[39;00m\n\u001b[0;32m     13\u001b[0m df \u001b[38;5;241m=\u001b[39m simulate_many(params, n_iters\u001b[38;5;241m=\u001b[39m\u001b[38;5;241m10\u001b[39m)\n",
      "\u001b[1;31mTypeError\u001b[0m: SimulationParams.__init__() missing 1 required positional argument: 'arrival_dist'"
     ]
    }
   ],
   "source": [
    "params = SimulationParams(\n",
    "    discharge_dist=discharge_dist,\n",
    "    service_time_dist=service_time_dist,\n",
    "    transport_time_dist=transport_time_dist,\n",
    "    distance_matrix=distances,\n",
    "    arrival_weights=arrival_weights,\n",
    "    discharge_weights=discharge_weights,\n",
    "    n_elevators=1,\n",
    "    n_robots=10\n",
    ")\n",
    "\n",
    "# Run simulation\n",
    "df = simulate_many(params, n_iters=10)\n",
    "print(df.columns)  \n",
    "print(df.index)\n"
   ]
  },
  {
   "cell_type": "code",
   "execution_count": 111,
   "id": "0cd92736",
   "metadata": {},
   "outputs": [
    {
     "name": "stdout",
     "output_type": "stream",
     "text": [
      "Queue time threshold: ≤ 30 minutes at each percentile\n",
      "\n",
      "Dirty Buffer:\n",
      "   50th percentile →   0.0 min → ✅ OK\n",
      "   90th percentile →   0.0 min → ✅ OK\n",
      "   95th percentile →  60.0 min → ❌ Exceeds\n",
      "   99th percentile → 120.0 min → ❌ Exceeds\n",
      "\n",
      "Clean Buffer:\n",
      "   50th percentile →   0.0 min → ✅ OK\n",
      "   90th percentile →   0.0 min → ✅ OK\n",
      "   95th percentile → 180.0 min → ❌ Exceeds\n",
      "   99th percentile → 360.0 min → ❌ Exceeds\n",
      "\n",
      "Bed Demand:\n",
      "   50th percentile → 1620.0 min → ❌ Exceeds\n",
      "   90th percentile → 5040.0 min → ❌ Exceeds\n",
      "   95th percentile → 5400.0 min → ❌ Exceeds\n",
      "   99th percentile → 5520.0 min → ❌ Exceeds\n",
      "\n"
     ]
    }
   ],
   "source": [
    "params = SimulationParams(\n",
    "    discharge_dist=discharge_dist,\n",
    "    arrival_dist=arrival_dist,\n",
    "    service_time_dist=service_time_dist,\n",
    "    transport_time_dist=transport_time_dist,\n",
    "    distance_matrix=distances,\n",
    "    arrival_weights=arrival_weights,\n",
    "    discharge_weights=discharge_weights,\n",
    "    n_patients=200,\n",
    "    n_elevators=1,\n",
    "    n_robots=25\n",
    ")\n",
    "\n",
    "# Run raw simulation\n",
    "events, data = simulate_system(params)\n",
    "\n",
    "# Time deltas between events (in hours → minutes)\n",
    "times = data[\"times\"]\n",
    "dt_minutes = np.diff(times, prepend=times[0]) * 60  # in minutes\n",
    "\n",
    "# Threshold and percentiles\n",
    "threshold_minutes = 30\n",
    "percentiles = [50, 90, 95, 99]\n",
    "\n",
    "print(f\"Queue time threshold: ≤ {threshold_minutes} minutes at each percentile\\n\")\n",
    "\n",
    "# Buffers: dirty and clean (elevator 1)\n",
    "buffer_metrics = [\n",
    "    (data[\"buffers\"][Buffer.DIRTY, 1], \"Dirty Buffer\"),\n",
    "    (data[\"buffers\"][Buffer.CLEAN, 1], \"Clean Buffer\"),\n",
    "    (data[\"demands\"][1], \"Bed Demand\"),\n",
    "]\n",
    "\n",
    "for queue_lengths, label in buffer_metrics:\n",
    "    time_weighted = np.repeat(queue_lengths, np.round(dt_minutes).astype(int))\n",
    "    \n",
    "    print(f\"{label}:\")\n",
    "    for p in percentiles:\n",
    "        q = np.percentile(time_weighted, p)\n",
    "        wait_minutes = q * 60  # assume 1 bed waited == 1 hour\n",
    "        status = \"✅ OK\" if wait_minutes <= threshold_minutes else \"❌ Exceeds\"\n",
    "        print(f\"  {p:>3}th percentile → {wait_minutes:5.1f} min → {status}\")\n",
    "    print()"
   ]
  },
  {
   "cell_type": "code",
   "execution_count": null,
   "id": "04e901ba",
   "metadata": {},
   "outputs": [],
   "source": []
  }
 ],
 "metadata": {
  "kernelspec": {
   "display_name": "Python 3",
   "language": "python",
   "name": "python3"
  },
  "language_info": {
   "codemirror_mode": {
    "name": "ipython",
    "version": 3
   },
   "file_extension": ".py",
   "mimetype": "text/x-python",
   "name": "python",
   "nbconvert_exporter": "python",
   "pygments_lexer": "ipython3",
   "version": "3.10.9"
  }
 },
 "nbformat": 4,
 "nbformat_minor": 5
}
