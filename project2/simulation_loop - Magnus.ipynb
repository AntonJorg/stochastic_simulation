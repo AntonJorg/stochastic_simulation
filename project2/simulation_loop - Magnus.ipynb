{
 "cells": [
  {
   "cell_type": "code",
   "execution_count": 1,
   "id": "1ce44d3b",
   "metadata": {},
   "outputs": [],
   "source": [
    "from simulation_loop import SimulationParams, simulate_many, Buffer, simulate_system\n",
    "from scipy.stats import norm, uniform, gamma, expon\n",
    "import numpy as np\n",
    "import matplotlib.pyplot as plt\n",
    "from collections import defaultdict\n",
    "import pandas as pd\n",
    "np.random.seed(42)"
   ]
  },
  {
   "cell_type": "code",
   "execution_count": 2,
   "id": "98f847c0",
   "metadata": {},
   "outputs": [],
   "source": [
    "p_ = 0.55\n",
    "t_ = np.linspace(0, 24, 1000)\n",
    "\n",
    "class ArrivalDistribution:\n",
    "    first_round_time = 9\n",
    "    second_round_time = 15\n",
    "    def __init__(self, p=0.5, offset=0):\n",
    "        self.p = p\n",
    "        self.first_peak = norm(loc=10 + offset, scale=1)\n",
    "        self.second_peak = norm(loc=15 + offset, scale=1.5)\n",
    "\n",
    "    def pdf(self, x):\n",
    "        return self.p * self.first_peak.pdf(x) + (1 - self.p) * self.second_peak.pdf(x)\n",
    "\n",
    "    def rvs(self, size=()):\n",
    "        s1 = self.first_peak.rvs(size=size)\n",
    "        s2 = self.second_peak.rvs(size=size)\n",
    "        choice = uniform.rvs(size=size) < self.p\n",
    "        return np.where(choice, s1, s2)\n",
    "\n",
    "discharge_dist = ArrivalDistribution()\n",
    "admission_dist = ArrivalDistribution(offset=1)\n",
    "\n",
    "arrivals = admission_dist.rvs(size=1000)\n",
    "discharges = discharge_dist.rvs(size=1000)\n",
    "\n",
    "def service_time_dist():\n",
    "    service_min_time = 5/60\n",
    "    return service_min_time + expon(scale=1/60).rvs()\n",
    "\n",
    "\n",
    "def transport_time_dist(distance_meters):\n",
    "    if distance_meters == 0:\n",
    "        return 0\n",
    "    speed_meters_per_second = 1.4\n",
    "    transport_time_seconds = gamma(a=distance_meters, scale=1/speed_meters_per_second).rvs()\n",
    "    return transport_time_seconds / 3600\n",
    "\n",
    "distances = np.array([\n",
    "    [10, 50, 175, 150],\n",
    "    [50, 10, 0, 0],\n",
    "    [175, 0, 10, 0],\n",
    "    [150, 0, 0, 10],\n",
    "])\n",
    "\n",
    "n_elevators = 3\n",
    "discharge_dist = lambda: ArrivalDistribution().rvs(size=200)"
   ]
  },
  {
   "cell_type": "markdown",
   "id": "3b000077",
   "metadata": {},
   "source": [
    "# Sensitivity Analysis - Base case\n",
    "\n",
    "## Queue lengths"
   ]
  },
  {
   "cell_type": "code",
   "execution_count": null,
   "id": "5621054f",
   "metadata": {},
   "outputs": [
    {
     "name": "stderr",
     "output_type": "stream",
     "text": [
      "  0%|          | 0/10 [00:00<?, ?it/s]"
     ]
    },
    {
     "name": "stderr",
     "output_type": "stream",
     "text": [
      " 70%|███████   | 7/10 [00:05<00:02,  1.25it/s]\n"
     ]
    },
    {
     "ename": "KeyboardInterrupt",
     "evalue": "",
     "output_type": "error",
     "traceback": [
      "\u001b[31m---------------------------------------------------------------------------\u001b[39m",
      "\u001b[31mKeyboardInterrupt\u001b[39m                         Traceback (most recent call last)",
      "\u001b[32m~\\AppData\\Local\\Temp\\ipykernel_2680\\2479110966.py\u001b[39m in \u001b[36m?\u001b[39m\u001b[34m()\u001b[39m\n\u001b[32m      8\u001b[39m     n_elevators=n_elevators,\n\u001b[32m      9\u001b[39m     n_robots=\u001b[32m1\u001b[39m,\n\u001b[32m     10\u001b[39m )\n\u001b[32m     11\u001b[39m \n\u001b[32m---> \u001b[39m\u001b[32m12\u001b[39m buffers, demands, arrival_times, discharge_times, df = simulate_many(params, n_iters=\u001b[32m10\u001b[39m)\n\u001b[32m     13\u001b[39m \n\u001b[32m     14\u001b[39m threshold = \u001b[32m10\u001b[39m\n\u001b[32m     15\u001b[39m \n",
      "\u001b[32mc:\\Users\\mabbi\\Desktop\\stochastic_simulation\\project2\\simulation_loop.py\u001b[39m in \u001b[36m?\u001b[39m\u001b[34m(params, n_iters, **kwargs)\u001b[39m\n\u001b[32m    302\u001b[39m     arrival_times = []\n\u001b[32m    303\u001b[39m     discharge_times = []\n\u001b[32m    304\u001b[39m \n\u001b[32m    305\u001b[39m     \u001b[38;5;28;01mfor\u001b[39;00m n \u001b[38;5;28;01min\u001b[39;00m tqdm(range(n_iters)):\n\u001b[32m--> \u001b[39m\u001b[32m306\u001b[39m         _, data = simulate_system(params)\n\u001b[32m    307\u001b[39m \n\u001b[32m    308\u001b[39m         times = data[\u001b[33m\"times\"\u001b[39m]\n\u001b[32m    309\u001b[39m         \u001b[38;5;66;03m# New time range\u001b[39;00m\n",
      "\u001b[32mc:\\Users\\mabbi\\Desktop\\stochastic_simulation\\project2\\simulation_loop.py\u001b[39m in \u001b[36m?\u001b[39m\u001b[34m(params, verbose, lambda_arrival)\u001b[39m\n\u001b[32m    185\u001b[39m                     \u001b[38;5;66;03m# Pick up bed when traveling to\u001b[39;00m\n\u001b[32m    186\u001b[39m                     \u001b[38;5;28;01mif\u001b[39;00m available_beds[:, robot_loc].sum() > \u001b[32m0\u001b[39m:\n\u001b[32m    187\u001b[39m                         target_buffer = Buffer.CLEAN \u001b[38;5;28;01mif\u001b[39;00m robot_loc == \u001b[32m0\u001b[39m \u001b[38;5;28;01melse\u001b[39;00m Buffer.DIRTY\n\u001b[32m    188\u001b[39m                         \u001b[38;5;28;01mif\u001b[39;00m available_beds[target_buffer, robot_loc] > \u001b[32m0\u001b[39m:\n\u001b[32m--> \u001b[39m\u001b[32m189\u001b[39m                             transport_time = transport_time_dist(distance_matrix[robot_loc, robot_loc])\n\u001b[32m    190\u001b[39m                             reserved[target_buffer, robot_loc] += \u001b[32m1\u001b[39m\n\u001b[32m    191\u001b[39m                             heappush(events, RobotsDispatched(t, robot_id))\n\u001b[32m    192\u001b[39m                             heappush(events, PickUpBed(t + transport_time, robot_id, robot_loc, target_buffer))\n",
      "\u001b[32m~\\AppData\\Local\\Temp\\ipykernel_2680\\3734708247.py\u001b[39m in \u001b[36m?\u001b[39m\u001b[34m(distance_meters)\u001b[39m\n\u001b[32m     32\u001b[39m \u001b[38;5;28;01mdef\u001b[39;00m transport_time_dist(distance_meters):\n\u001b[32m     33\u001b[39m     \u001b[38;5;28;01mif\u001b[39;00m distance_meters == \u001b[32m0\u001b[39m:\n\u001b[32m     34\u001b[39m         \u001b[38;5;28;01mreturn\u001b[39;00m \u001b[32m0\u001b[39m\n\u001b[32m     35\u001b[39m     speed_meters_per_second = \u001b[32m1.4\u001b[39m\n\u001b[32m---> \u001b[39m\u001b[32m36\u001b[39m     transport_time_seconds = gamma(a=distance_meters, scale=\u001b[32m1\u001b[39m/speed_meters_per_second).rvs()\n\u001b[32m     37\u001b[39m     \u001b[38;5;28;01mreturn\u001b[39;00m transport_time_seconds / \u001b[32m3600\u001b[39m\n",
      "\u001b[32mc:\\Users\\mabbi\\AppData\\Local\\Programs\\Python\\Python312\\Lib\\site-packages\\scipy\\stats\\_distn_infrastructure.py\u001b[39m in \u001b[36m?\u001b[39m\u001b[34m(self, size, random_state)\u001b[39m\n\u001b[32m    529\u001b[39m     \u001b[38;5;28;01mdef\u001b[39;00m rvs(self, size=\u001b[38;5;28;01mNone\u001b[39;00m, random_state=\u001b[38;5;28;01mNone\u001b[39;00m):\n\u001b[32m    530\u001b[39m         kwds = self.kwds.copy()\n\u001b[32m    531\u001b[39m         kwds.update({\u001b[33m'size'\u001b[39m: size, \u001b[33m'random_state'\u001b[39m: random_state})\n\u001b[32m--> \u001b[39m\u001b[32m532\u001b[39m         \u001b[38;5;28;01mreturn\u001b[39;00m self.dist.rvs(*self.args, **kwds)\n",
      "\u001b[32mc:\\Users\\mabbi\\AppData\\Local\\Programs\\Python\\Python312\\Lib\\site-packages\\scipy\\stats\\_distn_infrastructure.py\u001b[39m in \u001b[36m?\u001b[39m\u001b[34m(self, *args, **kwds)\u001b[39m\n\u001b[32m   1107\u001b[39m             random_state = check_random_state(rndm)\n\u001b[32m   1108\u001b[39m         \u001b[38;5;28;01melse\u001b[39;00m:\n\u001b[32m   1109\u001b[39m             random_state = self._random_state\n\u001b[32m   1110\u001b[39m \n\u001b[32m-> \u001b[39m\u001b[32m1111\u001b[39m         vals = self._rvs(*args, size=size, random_state=random_state)\n\u001b[32m   1112\u001b[39m \n\u001b[32m   1113\u001b[39m         vals = vals * scale + loc\n\u001b[32m   1114\u001b[39m \n",
      "\u001b[32mc:\\Users\\mabbi\\AppData\\Local\\Programs\\Python\\Python312\\Lib\\site-packages\\scipy\\stats\\_continuous_distns.py\u001b[39m in \u001b[36m?\u001b[39m\u001b[34m(self, a, size, random_state)\u001b[39m\n\u001b[32m   3579\u001b[39m     \u001b[38;5;28;01mdef\u001b[39;00m _rvs(self, a, size=\u001b[38;5;28;01mNone\u001b[39;00m, random_state=\u001b[38;5;28;01mNone\u001b[39;00m):\n\u001b[32m-> \u001b[39m\u001b[32m3580\u001b[39m         \u001b[38;5;28;01mreturn\u001b[39;00m random_state.standard_gamma(a, size)\n",
      "\u001b[31mKeyboardInterrupt\u001b[39m: "
     ]
    }
   ],
   "source": [
    "params = SimulationParams(\n",
    "    discharge_dist,\n",
    "    service_time_dist,\n",
    "    transport_time_dist,\n",
    "    distances,\n",
    "    arrival_weights=np.array([0.8, 0.1, 0.1]),\n",
    "    discharge_weights=np.array([0.2, 0.4, 0.4]),\n",
    "    n_elevators=n_elevators,\n",
    "    n_robots=1,\n",
    ")\n",
    "\n",
    "buffers, demands, arrival_times, discharge_times, df = simulate_many(params, n_iters=10)\n",
    "\n",
    "threshold = 10  \n",
    "\n",
    "metrics = [\"Clean buffer (daily max)\", \"Dirty buffer (daily max)\", \"Bed demand (daily max)\"]\n",
    "percentiles = [\"50th\", \"90th\", \"95th\", \"99th\"]\n",
    "\n",
    "print(f\"Service level: Percentile ≤ {threshold} beds\")\n",
    "for m in metrics:\n",
    "    print(f\"\\n{m}:\")\n",
    "    for p in percentiles:\n",
    "        v = df.loc[m, p]\n",
    "        status = \"OK\" if v <= threshold else \"Exceeds\"\n",
    "        print(f\"  {p:>4} percentile → {v:5.2f} → {status}\")\n",
    "\n",
    "# Extract per‑run maxima\n",
    "clean_max = buffers[:, Buffer.CLEAN].max(axis=(1,2))\n",
    "dirty_max = buffers[:, Buffer.DIRTY].max(axis=(1,2))\n",
    "demand_max = demands.max(axis=(1,2))\n",
    "\n",
    "# Plot histograms side by side\n",
    "fig, axs = plt.subplots(1, 3, figsize=(18, 5))\n",
    "axs[0].hist(clean_max, bins=20, edgecolor=\"black\")\n",
    "axs[0].set(title=\"Clean Buffer (Daily Max)\", xlabel=\"Beds\", ylabel=\"Frequency\")\n",
    "axs[1].hist(dirty_max, bins=20, edgecolor=\"black\")\n",
    "axs[1].set(title=\"Dirty Buffer (Daily Max)\", xlabel=\"Beds\")\n",
    "axs[2].hist(demand_max, bins=20, edgecolor=\"black\")\n",
    "axs[2].set(title=\"Bed Demand (Daily Max)\", xlabel=\"Beds\")\n",
    "plt.tight_layout()\n",
    "plt.show()"
   ]
  },
  {
   "cell_type": "markdown",
   "id": "08d6a1c4",
   "metadata": {},
   "source": [
    "# Increasing the number of bots"
   ]
  },
  {
   "cell_type": "code",
   "execution_count": 19,
   "id": "786422c1",
   "metadata": {},
   "outputs": [
    {
     "name": "stderr",
     "output_type": "stream",
     "text": [
      "100%|██████████| 5/5 [00:04<00:00,  1.20it/s]\n",
      "100%|██████████| 5/5 [00:04<00:00,  1.18it/s]\n",
      "100%|██████████| 5/5 [00:04<00:00,  1.22it/s]\n",
      "100%|██████████| 5/5 [00:04<00:00,  1.25it/s]\n",
      "100%|██████████| 5/5 [00:04<00:00,  1.09it/s]"
     ]
    },
    {
     "name": "stdout",
     "output_type": "stream",
     "text": [
      "\n",
      "=== Clean Buffer Percentiles ===\n",
      "    90th  95th  99th\n",
      "1   0.10  0.10  0.11\n",
      "2   0.09  0.09  0.09\n",
      "3   0.08  0.08  0.08\n",
      "5   0.07  0.07  0.07\n",
      "10  0.09  0.09  0.09\n",
      "\n",
      "=== Dirty Buffer Percentiles ===\n",
      "     90th   95th   99th\n",
      "1   11.04  11.15  11.24\n",
      "2   10.66  10.66  10.66\n",
      "3   10.82  10.83  10.85\n",
      "5   11.06  11.17  11.25\n",
      "10  10.96  11.03  11.08\n"
     ]
    },
    {
     "name": "stderr",
     "output_type": "stream",
     "text": [
      "\n"
     ]
    }
   ],
   "source": [
    "robot_range = [1, 2, 3, 5, 10]\n",
    "n_iters = 5\n",
    "\n",
    "clean_stats = []\n",
    "dirty_stats = []\n",
    "\n",
    "for n_robots in robot_range:\n",
    "    params = SimulationParams(\n",
    "        discharge_dist,\n",
    "        service_time_dist,\n",
    "        transport_time_dist,\n",
    "        distances,\n",
    "        arrival_weights=np.ones(n_elevators) / n_elevators,\n",
    "        discharge_weights=np.ones(n_elevators) / n_elevators,\n",
    "        n_elevators=n_elevators,\n",
    "        n_robots=n_robots,\n",
    "    )\n",
    "\n",
    "    buffers, *_ = simulate_many(params, n_iters=n_iters)\n",
    "\n",
    "    # Compute max buffer size per run\n",
    "    clean_vals = buffers[:, Buffer.CLEAN, :, :].mean(axis=(1, 2))\n",
    "    dirty_vals = buffers[:, Buffer.DIRTY, :, :].mean(axis=(1, 2))\n",
    "\n",
    "    # Compute percentiles across simulation runs\n",
    "    clean_percentiles = np.percentile(clean_vals, [90, 95, 99])\n",
    "    dirty_percentiles = np.percentile(dirty_vals, [90, 95, 99])\n",
    "\n",
    "    clean_stats.append(clean_percentiles)\n",
    "    dirty_stats.append(dirty_percentiles)\n",
    "\n",
    "quantile_labels = ['90th', '95th', '99th']\n",
    "robot_labels = [str(r) for r in robot_range]\n",
    "\n",
    "clean_df = pd.DataFrame(clean_stats, index=robot_labels, columns=quantile_labels)\n",
    "dirty_df = pd.DataFrame(dirty_stats, index=robot_labels, columns=quantile_labels)\n",
    "\n",
    "print(\"\\n=== Clean Buffer Percentiles ===\")\n",
    "print(clean_df.round(2))\n",
    "\n",
    "print(\"\\n=== Dirty Buffer Percentiles ===\")\n",
    "print(dirty_df.round(2))"
   ]
  },
  {
   "cell_type": "markdown",
   "id": "fc8671a1",
   "metadata": {},
   "source": [
    "# Changing $\\lambda$"
   ]
  },
  {
   "cell_type": "code",
   "execution_count": 26,
   "id": "57ebbba0",
   "metadata": {},
   "outputs": [
    {
     "name": "stderr",
     "output_type": "stream",
     "text": [
      "100%|██████████| 5/5 [00:04<00:00,  1.17it/s]\n",
      "100%|██████████| 5/5 [00:03<00:00,  1.27it/s]\n",
      "100%|██████████| 5/5 [00:03<00:00,  1.27it/s]\n",
      "100%|██████████| 5/5 [00:04<00:00,  1.25it/s]\n",
      "100%|██████████| 5/5 [00:03<00:00,  1.25it/s]"
     ]
    },
    {
     "name": "stdout",
     "output_type": "stream",
     "text": [
      "\n",
      "=== Clean Buffer Percentiles by lambda_arrival ===\n",
      "       90th  95th  99th\n",
      "1      0.09  0.09  0.09\n",
      "1.2    0.12  0.12  0.13\n",
      "1.5    0.14  0.14  0.14\n",
      "2      0.09  0.10  0.10\n",
      "0.001  0.10  0.10  0.10\n",
      "\n",
      "=== Dirty Buffer Percentiles by lambda_arrival ===\n",
      "        90th   95th   99th\n",
      "1      10.96  11.08  11.17\n",
      "1.2    10.46  10.47  10.47\n",
      "1.5    10.58  10.70  10.80\n",
      "2      11.04  11.14  11.21\n",
      "0.001  11.08  11.10  11.12\n"
     ]
    },
    {
     "name": "stderr",
     "output_type": "stream",
     "text": [
      "\n"
     ]
    }
   ],
   "source": [
    "lambdas = [1, 1.2, 1.5, 2, 0.001]  # lambda_arrival values\n",
    "scales = 1 / np.array(lambdas)\n",
    "n_iters = 5  # number of simulation runs\n",
    "\n",
    "clean_stats = []\n",
    "dirty_stats = []\n",
    "\n",
    "for lam in scales:\n",
    "    params = SimulationParams(\n",
    "        discharge_dist,\n",
    "        service_time_dist,\n",
    "        transport_time_dist,\n",
    "        distances,\n",
    "        arrival_weights=np.ones(n_elevators) / n_elevators,\n",
    "        discharge_weights=np.ones(n_elevators) / n_elevators,\n",
    "        n_elevators=n_elevators,\n",
    "        n_robots=1,\n",
    "    )\n",
    "\n",
    "    # Run simulations\n",
    "    buffers, *_ = simulate_many(params, n_iters=n_iters, lambda_arrival=lam)\n",
    "\n",
    "    # Take mean buffer occupancy per simulation run\n",
    "    clean_vals = buffers[:, Buffer.CLEAN, :, :].mean(axis=(1, 2))\n",
    "    dirty_vals = buffers[:, Buffer.DIRTY, :, :].mean(axis=(1, 2))\n",
    "\n",
    "    # Compute percentiles across runs\n",
    "    clean_percentiles = np.percentile(clean_vals, [90, 95, 99])\n",
    "    dirty_percentiles = np.percentile(dirty_vals, [90, 95, 99])\n",
    "\n",
    "    clean_stats.append(clean_percentiles)\n",
    "    dirty_stats.append(dirty_percentiles)\n",
    "\n",
    "# Labels\n",
    "quantile_labels = ['90th', '95th', '99th']\n",
    "lambda_labels = [str(lam) for lam in lambdas]\n",
    "\n",
    "# Create and print DataFrames\n",
    "clean_df = pd.DataFrame(clean_stats, index=lambda_labels, columns=quantile_labels)\n",
    "dirty_df = pd.DataFrame(dirty_stats, index=lambda_labels, columns=quantile_labels)\n",
    "\n",
    "print(\"\\n=== Clean Buffer Percentiles by lambda_arrival ===\")\n",
    "print(clean_df.round(2))\n",
    "\n",
    "print(\"\\n=== Dirty Buffer Percentiles by lambda_arrival ===\")\n",
    "print(dirty_df.round(2))"
   ]
  }
 ],
 "metadata": {
  "kernelspec": {
   "display_name": "Python 3",
   "language": "python",
   "name": "python3"
  },
  "language_info": {
   "codemirror_mode": {
    "name": "ipython",
    "version": 3
   },
   "file_extension": ".py",
   "mimetype": "text/x-python",
   "name": "python",
   "nbconvert_exporter": "python",
   "pygments_lexer": "ipython3",
   "version": "3.12.4"
  }
 },
 "nbformat": 4,
 "nbformat_minor": 5
}
