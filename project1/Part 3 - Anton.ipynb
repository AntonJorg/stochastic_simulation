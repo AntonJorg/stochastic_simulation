{
 "cells": [
  {
   "cell_type": "code",
   "execution_count": 78,
   "id": "646f3fd3",
   "metadata": {},
   "outputs": [],
   "source": [
    "import numpy as np\n",
    "import matplotlib.pyplot as plt"
   ]
  },
  {
   "cell_type": "code",
   "execution_count": 79,
   "id": "dad14227",
   "metadata": {},
   "outputs": [],
   "source": [
    "Q = np.array(\n",
    "    [[-0.0085, 0.005, 0.0025, 0.0, 0.001],\n",
    "     [0.0, -0.014, 0.005, 0.004, 0.005],\n",
    "     [0.0, 0.0, -0.008, 0.003, 0.005],\n",
    "     [0.0, 0.0, 0.0, -0.009, 0.009],\n",
    "     [0.0, 0.0, 0.0, 0.0, 0.00]]\n",
    ")"
   ]
  },
  {
   "cell_type": "code",
   "execution_count": 80,
   "id": "75b28259",
   "metadata": {},
   "outputs": [],
   "source": [
    "def get_P_and_q(Q):\n",
    "    assert np.allclose(Q.sum(axis=1), 0), \"Rows of Q0 should sum to zero\"\n",
    "\n",
    "    P = np.zeros_like(Q)\n",
    "    for i in range(Q.shape[0]):\n",
    "        if Q[i, i] != 0:\n",
    "            P[i] = Q[i] / -Q[i, i]\n",
    "            P[i, i] = 0  # Set diagonal to zero\n",
    "\n",
    "    assert np.allclose(P[:-1].sum(axis=1), 1), \"Rows of P should sum to one\"\n",
    "\n",
    "    q = -1 / np.diag(Q)[:-1]\n",
    "\n",
    "    return P, q"
   ]
  },
  {
   "cell_type": "code",
   "execution_count": 81,
   "id": "fa384fea",
   "metadata": {},
   "outputs": [],
   "source": [
    "def simulate_breast_cancer(n_patients: int, Q: np.ndarray):\n",
    "\n",
    "    P, q = get_P_and_q(Q)\n",
    "\n",
    "    transitions = [[(0.0, 0)] for _ in range(n_patients)]  # Initialize transitions for each\n",
    "    for woman in range(n_patients):\n",
    "        state = 0\n",
    "        t = 0.0\n",
    "        while state < 4:\n",
    "            t += np.random.exponential(q[state])\n",
    "            state = np.random.choice(5, p=P[state])\n",
    "            \n",
    "            transitions[woman].append((t, state))\n",
    "    \n",
    "    return transitions"
   ]
  },
  {
   "cell_type": "code",
   "execution_count": 82,
   "id": "f27e89d6",
   "metadata": {},
   "outputs": [],
   "source": [
    "np.random.seed(42)  # For reproducibility\n",
    "results = simulate_breast_cancer(1000, Q)"
   ]
  },
  {
   "cell_type": "code",
   "execution_count": 83,
   "id": "764a2499",
   "metadata": {},
   "outputs": [
    {
     "data": {
      "text/plain": [
       "[[(0.0, 0),\n",
       "  (51.10228510508271, 1),\n",
       "  (65.19855759523612, 3),\n",
       "  (393.2301055856606, 4)],\n",
       " [(0.0, 0),\n",
       "  (169.63224300574444, 1),\n",
       "  (453.7012241330317, 3),\n",
       "  (619.556536972616, 4)],\n",
       " [(0.0, 0), (116.2319653484796, 1), (127.50687236679214, 4)],\n",
       " [(0.0, 0), (293.7345609066661, 4)],\n",
       " [(0.0, 0),\n",
       "  (115.52773984143941, 2),\n",
       "  (124.46969945899315, 3),\n",
       "  (166.29691969525655, 4)],\n",
       " [(0.0, 0), (51.76364539792678, 1), (116.58487376313448, 4)],\n",
       " [(0.0, 0),\n",
       "  (56.643137731320394, 1),\n",
       "  (72.28687652838724, 2),\n",
       "  (116.85295889298934, 4)],\n",
       " [(0.0, 0), (108.07732249341798, 2), (164.35283686154423, 4)],\n",
       " [(0.0, 0),\n",
       "  (26.854850150857295, 1),\n",
       "  (142.15074798702489, 2),\n",
       "  (156.6982508991571, 4)],\n",
       " [(0.0, 0), (49.40755388501952, 2), (52.61698072911673, 4)]]"
      ]
     },
     "execution_count": 83,
     "metadata": {},
     "output_type": "execute_result"
    }
   ],
   "source": [
    "results[-10:]"
   ]
  },
  {
   "cell_type": "code",
   "execution_count": 84,
   "id": "c71dad1a",
   "metadata": {},
   "outputs": [
    {
     "data": {
      "text/plain": [
       "[[0, 0, 3, 3, 3, 3, 3, 3, 3, 4],\n",
       " [0, 0, 0, 0, 1, 1, 1, 1, 1, 1, 3, 3, 3, 4],\n",
       " [0, 0, 0, 4],\n",
       " [0, 0, 0, 0, 0, 0, 0, 4],\n",
       " [0, 0, 0, 3, 4],\n",
       " [0, 0, 1, 4],\n",
       " [0, 0, 2, 4],\n",
       " [0, 0, 0, 2, 4],\n",
       " [0, 1, 1, 2, 4],\n",
       " [0, 0, 4]]"
      ]
     },
     "execution_count": 84,
     "metadata": {},
     "output_type": "execute_result"
    }
   ],
   "source": [
    "def index_into_transition_list(transitions, t):\n",
    "    # if we only have one transition, it is (0.0, 0)\n",
    "    if len(transitions) == 1:\n",
    "        return 0\n",
    "    \n",
    "    for (t1, s1), (t2, s2) in zip(transitions[:-1], transitions[1:]):\n",
    "        if t1 <= t < t2:\n",
    "            return s1\n",
    "    return s2 # very fyfyskammeskamme\n",
    "\n",
    "def transitions_to_time_series(transitions):\n",
    "    t = 0\n",
    "    ts = [index_into_transition_list(transitions, t)]\n",
    "    while ts[-1] != 4 and t < transitions[-1][0]:\n",
    "        t += 48\n",
    "        ts.append(index_into_transition_list(transitions, t))\n",
    "    return ts\n",
    "\n",
    "time_series = []\n",
    "for transitions in results:\n",
    "    ts = transitions_to_time_series(transitions)    \n",
    "    time_series.append(ts)\n",
    "\n",
    "time_series[-10:]"
   ]
  },
  {
   "cell_type": "code",
   "execution_count": 85,
   "id": "8f4e48be",
   "metadata": {},
   "outputs": [
    {
     "data": {
      "text/plain": [
       "[[(0.0, 0),\n",
       "  (400.42711166693596, 2),\n",
       "  (427.88066965930204, 3),\n",
       "  (448.16287793377063, 4)]]"
      ]
     },
     "execution_count": 85,
     "metadata": {},
     "output_type": "execute_result"
    }
   ],
   "source": [
    "from itertools import takewhile\n",
    "\n",
    "def simulate_one_step(t, state, P, q):\n",
    "    return t + np.random.exponential(q[state]), np.random.choice(5, p=P[state])\n",
    "\n",
    "\n",
    "def find_next_time_step(ts, simulated_ts):\n",
    "    i = len(simulated_ts) - 1\n",
    "    current_state = simulated_ts[-1]\n",
    "    while ts[i] == current_state:\n",
    "        i += 1\n",
    "    return (i - 1) * 48\n",
    "\n",
    "\n",
    "def simulate_consistent_trajectories(time_series, Q):\n",
    "    P, q = get_P_and_q(Q)\n",
    "\n",
    "    consistent_transitions = []\n",
    "    i = 0\n",
    "    for ts in time_series:\n",
    "        i += 1\n",
    "        transitions = [(0.0, 0)]\n",
    "        simulated_ts = [0]\n",
    "        while not ts == simulated_ts:\n",
    "\n",
    "            simulated_ts = transitions_to_time_series(transitions)\n",
    "\n",
    "            # exploit memoryless property of exponential distribution\n",
    "            # to avoid getting stuck on improbable trajectories\n",
    "            next_t = find_next_time_step(ts, simulated_ts)\n",
    "\n",
    "            n_transitions_added = 1\n",
    "            prev_t, prev_state = transitions[-1]\n",
    "\n",
    "            new_t, new_state = simulate_one_step(next_t, prev_state, P, q)\n",
    "            transitions.append((new_t, new_state))\n",
    "\n",
    "            while new_t < next_t + 48 and new_state != 4:\n",
    "                new_t, new_state = simulate_one_step(new_t, new_state, P, q)\n",
    "                transitions.append((new_t, new_state))\n",
    "                n_transitions_added += 1\n",
    "\n",
    "            simulated_ts = transitions_to_time_series(transitions)\n",
    "\n",
    "            is_consistent = all(true == sim for (true, sim) in zip(ts, simulated_ts))\n",
    "\n",
    "            if not is_consistent:\n",
    "                transitions = transitions[:-n_transitions_added]\n",
    "\n",
    "        consistent_transitions.append(transitions)\n",
    "    return consistent_transitions\n",
    "\n",
    "# test somewhat difficult case\n",
    "simulate_consistent_trajectories([[0, 0, 0, 0, 0, 0, 0, 0, 0, 3, 4]], Q)\n"
   ]
  },
  {
   "cell_type": "code",
   "execution_count": 86,
   "id": "9d537682",
   "metadata": {},
   "outputs": [],
   "source": [
    "def estimate_Q(Q0, time_series):\n",
    "    Q = Q0.copy()\n",
    "    prev_Q = Q0.copy()\n",
    "    k = 0\n",
    "    while True:\n",
    "        print(\"k =\", k)\n",
    "        k += 1\n",
    "        trajectories = simulate_consistent_trajectories(time_series, Q)\n",
    "        \n",
    "        # sojourn times\n",
    "        S = np.zeros(4)\n",
    "        # state transition counts\n",
    "        N = np.zeros((4, 5))\n",
    "        \n",
    "        for trajectory in trajectories:\n",
    "            for (t1, s1), (t2, s2) in zip(trajectory[:-1], trajectory[1:]):\n",
    "                N[s1, s2] += 1\n",
    "                S[s1] += t2 - t1\n",
    "\n",
    "        # calculate non-diagonal elements from eq. 2\n",
    "        Q = N / S.reshape(-1, 1)\n",
    "        # calculate diagonals from eq. 1\n",
    "        np.fill_diagonal(Q, -np.sum(Q, axis=1))\n",
    "        # add bottom row (death state was not included in sojourn times)\n",
    "        Q = np.vstack([Q, np.zeros((1, 5))])\n",
    "        \n",
    "        # inifinity norm == largest absolute error\n",
    "        max_diff = np.max(np.abs(Q - prev_Q))\n",
    "        print(\"Maximum absolute error:\", max_diff)\n",
    "\n",
    "        if max_diff < 1e-3:\n",
    "            break\n",
    "\n",
    "        prev_Q = Q.copy()\n",
    "\n",
    "    return Q       "
   ]
  },
  {
   "cell_type": "code",
   "execution_count": 88,
   "id": "4f993b44",
   "metadata": {},
   "outputs": [
    {
     "name": "stdout",
     "output_type": "stream",
     "text": [
      "k = 0\n",
      "Maximum absolute error: 0.00474000055761039\n",
      "k = 1\n",
      "Maximum absolute error: 0.0008473242449482752\n"
     ]
    }
   ],
   "source": [
    "Q0 = np.array(\n",
    "    [[-0.012, 0.003, 0.003, 0.003, 0.003],\n",
    "     [0.0, -0.012, 0.004, 0.004, 0.004],\n",
    "     [0.0, 0.0, -0.012, 0.006, 0.006],\n",
    "     [0.0, 0.0, 0.0, -0.012, 0.012],\n",
    "     [0.0, 0.0, 0.0, 0.0, 0.00]]\n",
    ")\n",
    "\n",
    "Q_est = estimate_Q(Q0, time_series)"
   ]
  },
  {
   "cell_type": "code",
   "execution_count": null,
   "id": "28c1419b",
   "metadata": {},
   "outputs": [
    {
     "ename": "RuntimeError",
     "evalue": "No mappable was found to use for colorbar creation. First define a mappable such as an image (with imshow) or a contour set (with contourf).",
     "output_type": "error",
     "traceback": [
      "\u001b[31m---------------------------------------------------------------------------\u001b[39m",
      "\u001b[31mRuntimeError\u001b[39m                              Traceback (most recent call last)",
      "\u001b[36mCell\u001b[39m\u001b[36m \u001b[39m\u001b[32mIn[98]\u001b[39m\u001b[32m, line 12\u001b[39m\n\u001b[32m      9\u001b[39m ax3.set_title(\u001b[33mr\u001b[39m\u001b[33m\"\u001b[39m\u001b[33m$\u001b[39m\u001b[33m\\\u001b[39m\u001b[33mleft| Q - Q_\u001b[39m\u001b[38;5;132;01m{est}\u001b[39;00m\u001b[33m \u001b[39m\u001b[33m\\\u001b[39m\u001b[33mright|$\u001b[39m\u001b[33m\"\u001b[39m)\n\u001b[32m     10\u001b[39m ax3.imshow(np.abs(Q - Q_est))\n\u001b[32m---> \u001b[39m\u001b[32m12\u001b[39m \u001b[43mplt\u001b[49m\u001b[43m.\u001b[49m\u001b[43mcolorbar\u001b[49m\u001b[43m(\u001b[49m\u001b[43m)\u001b[49m\n\u001b[32m     13\u001b[39m plt.show()\n",
      "\u001b[36mFile \u001b[39m\u001b[32m~/Documents/DTU/2_semester/stochastic_simulation/.venv/lib/python3.12/site-packages/matplotlib/pyplot.py:2530\u001b[39m, in \u001b[36mcolorbar\u001b[39m\u001b[34m(mappable, cax, ax, **kwargs)\u001b[39m\n\u001b[32m   2528\u001b[39m     mappable = gci()\n\u001b[32m   2529\u001b[39m     \u001b[38;5;28;01mif\u001b[39;00m mappable \u001b[38;5;129;01mis\u001b[39;00m \u001b[38;5;28;01mNone\u001b[39;00m:\n\u001b[32m-> \u001b[39m\u001b[32m2530\u001b[39m         \u001b[38;5;28;01mraise\u001b[39;00m \u001b[38;5;167;01mRuntimeError\u001b[39;00m(\u001b[33m'\u001b[39m\u001b[33mNo mappable was found to use for colorbar \u001b[39m\u001b[33m'\u001b[39m\n\u001b[32m   2531\u001b[39m                            \u001b[33m'\u001b[39m\u001b[33mcreation. First define a mappable such as \u001b[39m\u001b[33m'\u001b[39m\n\u001b[32m   2532\u001b[39m                            \u001b[33m'\u001b[39m\u001b[33man image (with imshow) or a contour set (\u001b[39m\u001b[33m'\u001b[39m\n\u001b[32m   2533\u001b[39m                            \u001b[33m'\u001b[39m\u001b[33mwith contourf).\u001b[39m\u001b[33m'\u001b[39m)\n\u001b[32m   2534\u001b[39m ret = gcf().colorbar(mappable, cax=cax, ax=ax, **kwargs)\n\u001b[32m   2535\u001b[39m \u001b[38;5;28;01mreturn\u001b[39;00m ret\n",
      "\u001b[31mRuntimeError\u001b[39m: No mappable was found to use for colorbar creation. First define a mappable such as an image (with imshow) or a contour set (with contourf)."
     ]
    },
    {
     "data": {
      "image/png": "[encoded data removed]",
      "text/plain": [
       "<Figure size 2000x600 with 3 Axes>"
      ]
     },
     "metadata": {},
     "output_type": "display_data"
    }
   ],
   "source": [
    "fig, (ax1, ax2, ax3) = plt.subplots(1, 3, figsize=(20, 6))\n",
    "\n",
    "ax1.set_title(\"$Q$\")\n",
    "ax1.imshow(Q)\n",
    "\n",
    "ax2.set_title(\"$Q_{est}$\")\n",
    "ax2.imshow(Q_est)\n",
    "\n",
    "ax3.set_title(r\"$\\left| Q - Q_{est} \\right|$\")\n",
    "ax3.imshow(np.abs(Q - Q_est))"
   ]
  }
 ],
 "metadata": {
  "kernelspec": {
   "display_name": "stochastic-simulation",
   "language": "python",
   "name": "python3"
  },
  "language_info": {
   "codemirror_mode": {
    "name": "ipython",
    "version": 3
   },
   "file_extension": ".py",
   "mimetype": "text/x-python",
   "name": "python",
   "nbconvert_exporter": "python",
   "pygments_lexer": "ipython3",
   "version": "3.12.8"
  }
 },
 "nbformat": 4,
 "nbformat_minor": 5
}
