{
 "cells": [
  {
   "cell_type": "code",
   "execution_count": 110,
   "id": "dcd225b8",
   "metadata": {},
   "outputs": [],
   "source": [
    "import numpy as np\n",
    "import matplotlib.pyplot as plt\n",
    "from tqdm import tqdm\n",
    "from scipy.stats import norm"
   ]
  },
  {
   "cell_type": "markdown",
   "id": "78a8aca8",
   "metadata": {},
   "source": [
    "# Part 2\n",
    "## Task 7"
   ]
  },
  {
   "cell_type": "code",
   "execution_count": 122,
   "id": "10210dec",
   "metadata": {},
   "outputs": [],
   "source": [
    "Q = np.array(\n",
    "    [[-0.0085, 0.005, 0.0025, 0.0, 0.001],\n",
    "     [0.0, -0.014, 0.005, 0.004, 0.005],\n",
    "     [0.0, 0.0, -0.008, 0.003, 0.005],\n",
    "     [0.0, 0.0, 0.0, -0.009, 0.009],\n",
    "     [0.0, 0.0, 0.0, 0.0, 0.00]]\n",
    ")\n",
    "\n",
    "assert np.allclose(Q.sum(axis=1), 0), \"Rows of Q should sum to zero\"\n",
    "\n",
    "P = np.zeros_like(Q)\n",
    "for i in range(Q.shape[0]):\n",
    "    if Q[i, i] != 0:\n",
    "        P[i] = Q[i] / -Q[i, i]\n",
    "        P[i, i] = 0  # Set diagonal to zero\n",
    "\n",
    "assert np.allclose(P[:-1].sum(axis=1), 1), \"Rows of P should sum to one\"\n",
    "\n",
    "# extract negative diagonal elements for easier indexing\n",
    "q = -1 / np.diag(Q[:-1, :-1])"
   ]
  },
  {
   "cell_type": "code",
   "execution_count": 123,
   "id": "dd52c79f",
   "metadata": {},
   "outputs": [
    {
     "data": {
      "text/plain": [
       "(array([[0.        , 0.58823529, 0.29411765, 0.        , 0.11764706],\n",
       "        [0.        , 0.        , 0.35714286, 0.28571429, 0.35714286],\n",
       "        [0.        , 0.        , 0.        , 0.375     , 0.625     ],\n",
       "        [0.        , 0.        , 0.        , 0.        , 1.        ],\n",
       "        [0.        , 0.        , 0.        , 0.        , 0.        ]]),\n",
       " array([117.64705882,  71.42857143, 125.        , 111.11111111]))"
      ]
     },
     "execution_count": 123,
     "metadata": {},
     "output_type": "execute_result"
    }
   ],
   "source": [
    "P, q"
   ]
  },
  {
   "cell_type": "code",
   "execution_count": 124,
   "id": "9aff047f",
   "metadata": {},
   "outputs": [
    {
     "name": "stdout",
     "output_type": "stream",
     "text": [
      "162.79767284745765\n",
      "4\n"
     ]
    }
   ],
   "source": [
    "# Sampling time until next transition from state 2\n",
    "print(np.random.exponential(q[2]))\n",
    "\n",
    "# Sampling next state from state 2\n",
    "print(np.random.choice([0, 1, 2, 3, 4], p=P[2]))"
   ]
  },
  {
   "cell_type": "code",
   "execution_count": 107,
   "id": "395e0de7",
   "metadata": {},
   "outputs": [],
   "source": [
    "def plot_lifetimes(result_dict):\n",
    "    lifetimes = result_dict[\"lifetimes\"]\n",
    "    plt.hist(lifetimes, bins=50, edgecolor='k', alpha=0.7)\n",
    "    plt.xlabel(\"Lifetime (time units)\")\n",
    "    plt.ylabel(\"Number of women\")\n",
    "    plt.title(\"Distribution of lifetimes after surgery\")\n",
    "    plt.grid(True)\n",
    "    plt.show()\n"
   ]
  },
  {
   "cell_type": "code",
   "execution_count": 126,
   "id": "bcb2b939",
   "metadata": {},
   "outputs": [
    {
     "name": "stderr",
     "output_type": "stream",
     "text": [
      "Women dead:   0%|          | 0/1000 [00:00<?, ?it/s]"
     ]
    },
    {
     "name": "stderr",
     "output_type": "stream",
     "text": [
      "Women dead: 100%|██████████| 1000/1000 [00:00<00:00, 1373.23it/s]\n"
     ]
    }
   ],
   "source": [
    "\n",
    "def simulate_breast_cancer(womens: int):\n",
    "    states = np.zeros(womens, dtype=int)\n",
    "    sojourns = np.random.exponential(q[0], womens)\n",
    "    lifetimes = np.zeros(womens)\n",
    "    alive = np.ones(womens, dtype=bool)\n",
    "    times = np.zeros(womens)\n",
    "\n",
    "    with tqdm(total=womens, desc=\"Women dead\") as pbar:\n",
    "        while np.any(alive):\n",
    "            active_indices = np.where(alive)[0]\n",
    "            event = active_indices[np.argmin(sojourns[alive])]\n",
    "\n",
    "            elapsed = sojourns[event]\n",
    "            sojourns[alive] -= elapsed\n",
    "            times[alive] += elapsed\n",
    "            lifetimes[event] += elapsed\n",
    "\n",
    "            new_state = np.random.choice(len(Q), p=P[states[event]])\n",
    "\n",
    "            if new_state == 4:\n",
    "                alive[event] = False\n",
    "                pbar.update(1)\n",
    "            else:\n",
    "                states[event] = new_state\n",
    "                sojourns[event] = np.random.exponential(q[new_state])\n",
    "\n",
    "    return {\"lifetimes\": lifetimes}\n",
    "\n",
    "\n",
    "np.random.seed(42)  # For reproducibility\n",
    "results = simulate_breast_cancer(1000)"
   ]
  },
  {
   "cell_type": "code",
   "execution_count": 127,
   "id": "8a50d4a4",
   "metadata": {},
   "outputs": [
    {
     "data": {
      "image/png": "[encoded data removed]",
      "text/plain": [
       "<Figure size 640x480 with 1 Axes>"
      ]
     },
     "metadata": {},
     "output_type": "display_data"
    }
   ],
   "source": [
    "plot_lifetimes(results)"
   ]
  },
  {
   "cell_type": "code",
   "execution_count": 128,
   "id": "415e629d",
   "metadata": {},
   "outputs": [
    {
     "name": "stdout",
     "output_type": "stream",
     "text": [
      "Mean lifetime: 1.45 (95% CI: 0.70 – 2.21)\n",
      "Standard deviation: 12.18 (95% CI: 11.64 – 12.71)\n"
     ]
    }
   ],
   "source": [
    "def report_lifetime_statistics(lifetimes, confidence=0.95):\n",
    "    n = len(lifetimes)\n",
    "    mean = np.mean(lifetimes)\n",
    "    std = np.std(lifetimes, ddof=1)\n",
    "\n",
    "    z = norm.ppf(1 - (1 - confidence) / 2)\n",
    "    se_mean = std / np.sqrt(n)\n",
    "    se_std = std / np.sqrt(2 * (n - 1))  # Approximate SE of sample std\n",
    "\n",
    "    ci_mean = (mean - z * se_mean, mean + z * se_mean)\n",
    "    ci_std = (std - z * se_std, std + z * se_std)\n",
    "\n",
    "    print(f\"Mean lifetime: {mean:.2f} (95% CI: {ci_mean[0]:.2f} – {ci_mean[1]:.2f})\")\n",
    "    print(f\"Standard deviation: {std:.2f} (95% CI: {ci_std[0]:.2f} – {ci_std[1]:.2f})\")\n",
    "\n",
    "report_lifetime_statistics(results[\"lifetimes\"], confidence=0.95)\n"
   ]
  },
  {
   "cell_type": "code",
   "execution_count": 130,
   "id": "64bf76af",
   "metadata": {},
   "outputs": [
    {
     "name": "stdout",
     "output_type": "stream",
     "text": [
      "Proportion of women with distant cancer reappearance after 30.5 months: 0.30%\n"
     ]
    }
   ],
   "source": [
    "# In what proportion of women has the cancer reappeared distantly after 30.5 months?\n",
    "def proportion_cancer_reappeared(lifetimes, threshold=30.5):\n",
    "    return np.sum(lifetimes > threshold) / len(lifetimes)\n",
    "print(f\"Proportion of women with distant cancer reappearance after 30.5 months: {proportion_cancer_reappeared(results['lifetimes']):.2%}\")"
   ]
  }
 ],
 "metadata": {
  "kernelspec": {
   "display_name": "base",
   "language": "python",
   "name": "python3"
  },
  "language_info": {
   "codemirror_mode": {
    "name": "ipython",
    "version": 3
   },
   "file_extension": ".py",
   "mimetype": "text/x-python",
   "name": "python",
   "nbconvert_exporter": "python",
   "pygments_lexer": "ipython3",
   "version": "3.12.3"
  }
 },
 "nbformat": 4,
 "nbformat_minor": 5
}
