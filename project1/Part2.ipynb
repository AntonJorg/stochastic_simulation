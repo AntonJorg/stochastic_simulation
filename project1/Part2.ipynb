{
 "cells": [
  {
   "cell_type": "code",
   "execution_count": 66,
   "id": "dcd225b8",
   "metadata": {},
   "outputs": [],
   "source": [
    "import numpy as np\n",
    "import matplotlib.pyplot as plt\n",
    "from tqdm import tqdm"
   ]
  },
  {
   "cell_type": "markdown",
   "id": "78a8aca8",
   "metadata": {},
   "source": [
    "# Part 2\n",
    "## Task 7"
   ]
  },
  {
   "cell_type": "code",
   "execution_count": 44,
   "id": "10210dec",
   "metadata": {},
   "outputs": [],
   "source": [
    "Q = np.array(\n",
    "    [[-0.0085, 0.005, 0.0025, 0.0, 0.001],\n",
    "     [0.0, -0.014, 0.005, 0.004, 0.005],\n",
    "     [0.0, 0.0, -0.008, 0.003, 0.005],\n",
    "     [0.0, 0.0, 0.0, -0.009, 0.009],\n",
    "     [0.0, 0.0, 0.0, 0.0, 0.00]]\n",
    ")\n",
    "\n",
    "assert np.allclose(Q.sum(axis=1), 0), \"Rows of Q should sum to zero\"\n",
    "\n",
    "P = np.zeros_like(Q)\n",
    "for i in range(Q.shape[0]):\n",
    "    if Q[i, i] != 0:\n",
    "        P[i] = Q[i] / -Q[i, i]\n",
    "        P[i, i] = 0  # Set diagonal to zero\n",
    "\n",
    "assert np.allclose(P[:-1].sum(axis=1), 1), \"Rows of P should sum to one\"\n",
    "\n",
    "# extract negative diagonal elements for easier indexing\n",
    "q = -np.diag(Q)"
   ]
  },
  {
   "cell_type": "code",
   "execution_count": 45,
   "id": "dd52c79f",
   "metadata": {},
   "outputs": [
    {
     "data": {
      "text/plain": [
       "(array([[0.        , 0.58823529, 0.29411765, 0.        , 0.11764706],\n",
       "        [0.        , 0.        , 0.35714286, 0.28571429, 0.35714286],\n",
       "        [0.        , 0.        , 0.        , 0.375     , 0.625     ],\n",
       "        [0.        , 0.        , 0.        , 0.        , 1.        ],\n",
       "        [0.        , 0.        , 0.        , 0.        , 0.        ]]),\n",
       " array([ 0.0085,  0.014 ,  0.008 ,  0.009 , -0.    ]))"
      ]
     },
     "execution_count": 45,
     "metadata": {},
     "output_type": "execute_result"
    }
   ],
   "source": [
    "P, q"
   ]
  },
  {
   "cell_type": "code",
   "execution_count": 49,
   "id": "9aff047f",
   "metadata": {},
   "outputs": [
    {
     "name": "stdout",
     "output_type": "stream",
     "text": [
      "0.007539584382833084\n",
      "3\n"
     ]
    }
   ],
   "source": [
    "# Sampling time until next transition from state 2\n",
    "print(np.random.exponential(q[2]))\n",
    "\n",
    "# Sampling next state from state 2\n",
    "print(np.random.choice([0, 1, 2, 3, 4], p=P[2]))"
   ]
  },
  {
   "cell_type": "code",
   "execution_count": 86,
   "id": "bcb2b939",
   "metadata": {},
   "outputs": [
    {
     "name": "stderr",
     "output_type": "stream",
     "text": [
      "Women dead: 100%|██████████| 1000/1000 [00:00<00:00, 1955.11it/s]\n"
     ]
    }
   ],
   "source": [
    "\n",
    "def simulate_breast_cancer(womens: int):\n",
    "    states = np.zeros(womens, dtype=int)\n",
    "    sojourns = np.random.exponential(-Q[0, 0], womens)  # Initial sojourn times\n",
    "    time = 0.0\n",
    "\n",
    "    # while all(states != 5):\n",
    "    with tqdm(total=womens, desc=\"Women dead\") as pbar:\n",
    "        while len(states) > 0:\n",
    "        # for _ in range(20):\n",
    "            event = np.argmin(sojourns)  # Get the index of the next event\n",
    "\n",
    "            # Skip to the next event time\n",
    "            elapsed = sojourns[event]\n",
    "            time += elapsed \n",
    "            sojourns -= elapsed\n",
    "\n",
    "            # Transition to the next state and remove if dead\n",
    "            new_state = np.random.choice(len(Q), p=P[states[event]])\n",
    "            \n",
    "            if new_state == 4:  # extract dead woman from simulation\n",
    "                states = np.delete(states, event)\n",
    "                sojourns = np.delete(sojourns, event)\n",
    "                pbar.update(1)\n",
    "            \n",
    "            # Sample new sojourn time for the event        \n",
    "            else:\n",
    "                states[event] = new_state\n",
    "                sojourns[event] = np.random.exponential(q[new_state])\n",
    "\n",
    "            \n",
    "\n",
    "\n",
    "# simulate_breast_cancer(1000)\n",
    "np.random.seed(42)  # For reproducibility\n",
    "simulate_breast_cancer(1000)"
   ]
  }
 ],
 "metadata": {
  "kernelspec": {
   "display_name": "base",
   "language": "python",
   "name": "python3"
  },
  "language_info": {
   "codemirror_mode": {
    "name": "ipython",
    "version": 3
   },
   "file_extension": ".py",
   "mimetype": "text/x-python",
   "name": "python",
   "nbconvert_exporter": "python",
   "pygments_lexer": "ipython3",
   "version": "3.12.3"
  }
 },
 "nbformat": 4,
 "nbformat_minor": 5
}
