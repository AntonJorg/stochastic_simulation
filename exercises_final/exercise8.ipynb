{
 "cells": [
  {
   "cell_type": "markdown",
   "id": "26e29cdb",
   "metadata": {},
   "source": [
    "# Exercise 8: Bootstrap"
   ]
  },
  {
   "cell_type": "code",
   "execution_count": 1,
   "id": "68ddf7ad",
   "metadata": {},
   "outputs": [],
   "source": [
    "import numpy as np \n",
    "import matplotlib.pyplot as plt\n",
    "from scipy.stats import uniform"
   ]
  },
  {
   "cell_type": "markdown",
   "id": "70b00169",
   "metadata": {},
   "source": [
    "## 1. Exercise 13 in Chapter 8 of Ross (P.152).\n",
    "### (a)"
   ]
  },
  {
   "cell_type": "markdown",
   "id": "5c80a297",
   "metadata": {},
   "source": [
    "Since $\\mu$ is unknown, we estimate it by taking the mean of the original sample.\n",
    "\n",
    "Then, for each bootstrap sample we compute the difference between the sample mean and $\\mu$.\n",
    "\n",
    "The probability $p$ can then be estimated as the proportion of these differences that fall outside the interval $(a, b)$."
   ]
  },
  {
   "cell_type": "markdown",
   "id": "67830767",
   "metadata": {},
   "source": [
    "### (b)"
   ]
  },
  {
   "cell_type": "code",
   "execution_count": 6,
   "id": "2b5c0408",
   "metadata": {},
   "outputs": [
    {
     "name": "stdout",
     "output_type": "stream",
     "text": [
      "p = 0.767\n"
     ]
    }
   ],
   "source": [
    "xi = np.array([56, 101, 78, 67, 93, 87, 64, 72, 80, 69])\n",
    "n = 10\n",
    "a = -5\n",
    "b = 5\n",
    "\n",
    "n_bootstrap = 10_000\n",
    "\n",
    "np.random.seed(42)\n",
    "bootstrap_samples = np.random.choice(xi, size=(n_bootstrap, 10))\n",
    "\n",
    "mu = np.mean(xi)\n",
    "\n",
    "bootstrap = np.sum(bootstrap_samples / n, axis=1) - mu\n",
    "p = np.mean(np.abs(bootstrap) < 5)\n",
    "print(f\"{p = :.3f}\")"
   ]
  },
  {
   "cell_type": "markdown",
   "id": "8e1c3840",
   "metadata": {},
   "source": [
    "From this, we obtain the bootstrap estimate $p = 0.767$."
   ]
  },
  {
   "cell_type": "markdown",
   "id": "59ceb033",
   "metadata": {},
   "source": [
    "## 2. Exercise 15 in Chapter 8 of Ross (P.152).\n",
    "\n",
    "We want to estimate the variance $\\sigma^2$ of the samples $X_i$, by the sample variance $S^2 = \\sum_{i=1}^n (X_i - \\bar{X}^2 / (n - 1)$.\n",
    "\n",
    "To understand how reliable this estimate is, we use the bootstrap technique to calculate $Var(S^2)$."
   ]
  },
  {
   "cell_type": "code",
   "execution_count": 15,
   "id": "58383f01",
   "metadata": {},
   "outputs": [
    {
     "name": "stdout",
     "output_type": "stream",
     "text": [
      "Var(S^2) = 59.14\n"
     ]
    }
   ],
   "source": [
    "# seed for reproducability\n",
    "np.random.seed(42)\n",
    "\n",
    "# data given in the exercise\n",
    "data = np.array([5, 4, 9, 6, 21, 17, 11, 20, 7, 10, 21, 15, 13, 16, 8])\n",
    "\n",
    "# draw 10,000 bootstrap samples, each of size 15 (original sample size)\n",
    "n = data.shape[0]\n",
    "n_bootstrap = 10_000\n",
    "bootstrap_samples = np.random.choice(data, size=(n_bootstrap, n))\n",
    "\n",
    "# take the mean of each bootstrap sample (X bar)\n",
    "x_bar = np.mean(bootstrap_samples, axis=1).reshape(-1, 1)\n",
    "\n",
    "# calculate sample variance for each bootstrap sample\n",
    "S2 = np.sum((bootstrap_samples - x_bar)**2 / (n - 1), axis=1)\n",
    "\n",
    "# calculate the variance of the sample variances S^2\n",
    "var_S2 = np.var(S2)\n",
    "\n",
    "print(f\"Var(S^2) = {var_S2:.2f}\")"
   ]
  },
  {
   "cell_type": "markdown",
   "id": "fac1cc6f",
   "metadata": {},
   "source": [
    "From this we get the bootstrap estimate $Var(S^2) = 59.14$"
   ]
  },
  {
   "cell_type": "markdown",
   "id": "0ea26a7b",
   "metadata": {},
   "source": [
    "### 3. Write a subroutine that takes as input a “data” vector of observed values, and which outputs the median as well as the bootstrap estimate of the variance of the median, based on r = 100 bootstrap replicates. Simulate N = 200 Pareto distributed random variates with β = 1 and k = 1.05\n",
    "\n",
    "First, we simulate 200 samples from the pareto distribution, and draw 100 bootstrap replicates:"
   ]
  },
  {
   "cell_type": "code",
   "execution_count": 22,
   "id": "eea167bf",
   "metadata": {},
   "outputs": [],
   "source": [
    "def sample_pareto(n, k, beta):\n",
    "    us = uniform.rvs(size=n)\n",
    "    return beta * us ** (-1/k)\n",
    "\n",
    "np.random.seed(69)\n",
    "\n",
    "n = 200\n",
    "\n",
    "sample = sample_pareto(n, k=1.05, beta=1)\n",
    "\n",
    "bootstrap_samples = np.random.choice(sample, size=(100, n))"
   ]
  },
  {
   "cell_type": "markdown",
   "id": "8cc67f3e",
   "metadata": {},
   "source": [
    "### (a) Compute the mean and the median (of the sample)"
   ]
  },
  {
   "cell_type": "code",
   "execution_count": 23,
   "id": "c9517b6d",
   "metadata": {},
   "outputs": [
    {
     "name": "stdout",
     "output_type": "stream",
     "text": [
      "Sample mean   = 7.35\n",
      "Sample median = 2.11\n"
     ]
    }
   ],
   "source": [
    "sample_mean = np.mean(sample)\n",
    "sample_median = np.median(sample)\n",
    "\n",
    "print(f\"Sample mean   = {sample_mean:.2f}\")\n",
    "print(f\"Sample median = {sample_median:.2f}\")"
   ]
  },
  {
   "cell_type": "markdown",
   "id": "0944d3ff",
   "metadata": {},
   "source": [
    "We get a sample mean of $7.35$, and a sample median of $2.11$."
   ]
  },
  {
   "cell_type": "markdown",
   "id": "39990af1",
   "metadata": {},
   "source": [
    "### (b) Make the bootstrap estimate of the variance of the sample mean."
   ]
  },
  {
   "cell_type": "code",
   "execution_count": 26,
   "id": "67667835",
   "metadata": {},
   "outputs": [
    {
     "name": "stdout",
     "output_type": "stream",
     "text": [
      "Variance of sample mean (bootsrap estimate): 9.24\n"
     ]
    }
   ],
   "source": [
    "bs_var_of_sample_mean = np.var(np.mean(bootstrap_samples, axis=1))\n",
    "\n",
    "print(f\"Variance of sample mean (bootsrap estimate): {bs_var_of_sample_mean:.2f}\")"
   ]
  },
  {
   "cell_type": "markdown",
   "id": "a32afd7f",
   "metadata": {},
   "source": [
    "We find the bootstrap estimate of the sample mean to be $9.24$."
   ]
  },
  {
   "cell_type": "markdown",
   "id": "5d877cb1",
   "metadata": {},
   "source": [
    "### (c) Make the bootstrap estimate of the variance of the sample median.\n"
   ]
  },
  {
   "cell_type": "code",
   "execution_count": 28,
   "id": "11d1ae9d",
   "metadata": {},
   "outputs": [
    {
     "name": "stdout",
     "output_type": "stream",
     "text": [
      "Variance of sample median (bootsrap estimate): 0.015\n"
     ]
    }
   ],
   "source": [
    "bs_var_of_sample_median = np.var(np.median(bootstrap_samples, axis=1))\n",
    "\n",
    "print(f\"Variance of sample median (bootsrap estimate): {bs_var_of_sample_median:.3f}\")"
   ]
  },
  {
   "cell_type": "markdown",
   "id": "27cc94af",
   "metadata": {},
   "source": [
    "We find the bootstrap estimate of the sample median to be $0.015$."
   ]
  },
  {
   "cell_type": "markdown",
   "id": "3e190c72",
   "metadata": {},
   "source": [
    "### (d) Compare the precision of the estimated median with the precision of the estimated mean."
   ]
  },
  {
   "cell_type": "code",
   "execution_count": 30,
   "id": "aa726199",
   "metadata": {},
   "outputs": [
    {
     "name": "stdout",
     "output_type": "stream",
     "text": [
      "Difference of var(sample mean) and var(sample median): 9.221\n",
      "Difference of std(sample mean) and std(sample median): 2.919\n"
     ]
    }
   ],
   "source": [
    "std_mean = np.sqrt(bs_var_of_sample_mean)\n",
    "std_median = np.sqrt(bs_var_of_sample_median)\n",
    "diff_of_stds = std_mean - std_median\n",
    "\n",
    "print(f\"Difference of var(sample mean) and var(sample median): {bs_var_of_sample_mean - bs_var_of_sample_median:.3f}\")\n",
    "print(f\"Difference of std(sample mean) and std(sample median): {diff_of_stds:.3f}\")"
   ]
  },
  {
   "cell_type": "markdown",
   "id": "3ee5b15b",
   "metadata": {},
   "source": [
    "The difference between the variance of the sample mean and the variance of the sample median is $9.221$.\n",
    "\n",
    "The difference between the standard deviation of the sample mean and the standard deviation of the sample median is $2.919$."
   ]
  },
  {
   "cell_type": "code",
   "execution_count": 31,
   "id": "38b0cfcd",
   "metadata": {},
   "outputs": [
    {
     "data": {
      "image/png": "[encoded data removed]",
      "text/plain": [
       "<Figure size 2000x600 with 1 Axes>"
      ]
     },
     "metadata": {},
     "output_type": "display_data"
    }
   ],
   "source": [
    "fig, ax = plt.subplots(1, 1, figsize=(20, 6))\n",
    "ax.hist(sample, range=(0, 25), bins=20, alpha=0.5)\n",
    "ax.axvline(sample_mean, color=\"r\", label=\"Sample mean\")\n",
    "ax.axvline(sample_mean + std_mean, color=\"r\", linestyle=\"--\", label=\"BS est. of std of sample mean\")\n",
    "ax.axvline(sample_mean - std_mean, color=\"r\", linestyle=\"--\")\n",
    "\n",
    "ax.axvline(sample_median, color=\"g\", label=\"Sample median\")\n",
    "ax.axvline(sample_median + std_median, color=\"g\", linestyle=\"--\", label=\"BS est. of std of sample median\")\n",
    "ax.axvline(sample_median - std_median, color=\"g\", linestyle=\"--\")\n",
    "\n",
    "ax.legend()\n",
    "\n",
    "plt.show()"
   ]
  },
  {
   "cell_type": "markdown",
   "id": "12caf6c0",
   "metadata": {},
   "source": [
    "We plot the sample mean and median, along with intervals of +/- 1 their respective standard deviation.\n",
    "\n",
    "We see that the median has a much narrower interval than the mean, which is exactly what we would expect from the pareto distribution, given how hard it is to estimate its mean (which we can assert using its first order moment distribution)."
   ]
  }
 ],
 "metadata": {
  "kernelspec": {
   "display_name": "stochastic-simulation",
   "language": "python",
   "name": "python3"
  },
  "language_info": {
   "codemirror_mode": {
    "name": "ipython",
    "version": 3
   },
   "file_extension": ".py",
   "mimetype": "text/x-python",
   "name": "python",
   "nbconvert_exporter": "python",
   "pygments_lexer": "ipython3",
   "version": "3.12.8"
  }
 },
 "nbformat": 4,
 "nbformat_minor": 5
}
