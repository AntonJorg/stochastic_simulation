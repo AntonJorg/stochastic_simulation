{
 "cells": [
  {
   "cell_type": "markdown",
   "id": "26e29cdb",
   "metadata": {},
   "source": [
    "# Exercise 8: Bootstrap"
   ]
  },
  {
   "cell_type": "code",
   "execution_count": 15,
   "id": "68ddf7ad",
   "metadata": {},
   "outputs": [],
   "source": [
    "import numpy as np \n",
    "import matplotlib.pyplot as plt\n",
    "from scipy.stats import uniform"
   ]
  },
  {
   "cell_type": "markdown",
   "id": "70b00169",
   "metadata": {},
   "source": [
    "## 1. Exercise 13 in Chapter 8 of Ross (P.152).\n",
    "### (a)"
   ]
  },
  {
   "cell_type": "markdown",
   "id": "5c80a297",
   "metadata": {},
   "source": [
    "Since $\\mu$ is unknown, we must also estimate it from the bootstrap samples. We do this by taking the mean of the mean of all bootstrap samples.\n",
    "\n",
    "Then, for each bootstrap sample we compute the difference between the sample mean and $\\mu$.\n",
    "\n",
    "The probability $p$ can then be estimated as the proportion of these differences that fall outside the interval $(a, b)$."
   ]
  },
  {
   "cell_type": "markdown",
   "id": "67830767",
   "metadata": {},
   "source": [
    "### (b)"
   ]
  },
  {
   "cell_type": "code",
   "execution_count": 29,
   "id": "2b5c0408",
   "metadata": {},
   "outputs": [
    {
     "name": "stdout",
     "output_type": "stream",
     "text": [
      "p = 0.77\n"
     ]
    }
   ],
   "source": [
    "xi = np.array([56, 101, 78, 67, 93, 87, 64, 72, 80, 69])\n",
    "n = 10\n",
    "a = -5\n",
    "b = 5\n",
    "\n",
    "n_bootstrap = 10_000\n",
    "\n",
    "bootstrap_samples = np.random.choice(xi, size=(n_bootstrap, 10))\n",
    "\n",
    "mu = np.mean(bootstrap_samples)\n",
    "\n",
    "bootstrap = np.sum(bootstrap_samples / n, axis=1) - mu\n",
    "p = np.mean(np.abs(bootstrap) < 5)\n",
    "print(f\"{p = :.2f}\")"
   ]
  },
  {
   "cell_type": "markdown",
   "id": "59ceb033",
   "metadata": {},
   "source": [
    "## 2. Exercise 15 in Chapter 8 of Ross (P.152)."
   ]
  },
  {
   "cell_type": "code",
   "execution_count": 25,
   "id": "58383f01",
   "metadata": {},
   "outputs": [
    {
     "name": "stdout",
     "output_type": "stream",
     "text": [
      "Var(S^2) = 57.56\n"
     ]
    }
   ],
   "source": [
    "data = np.array([5, 4, 9, 6, 21, 17, 11, 20, 7, 10, 21, 15, 13, 16, 8])\n",
    "\n",
    "n = data.shape[0]\n",
    "n_bootstrap = 10_000\n",
    "\n",
    "bootstrap_samples = np.random.choice(data, size=(n_bootstrap, n))\n",
    "\n",
    "x_bar = np.mean(bootstrap_samples, axis=1).reshape(-1, 1)\n",
    "\n",
    "S2 = np.sum((bootstrap_samples - x_bar)**2 / (n - 1), axis=1)\n",
    "\n",
    "var_S2 = np.var(S2)\n",
    "\n",
    "print(f\"Var(S^2) = {var_S2:.2f}\")"
   ]
  },
  {
   "cell_type": "markdown",
   "id": "0ea26a7b",
   "metadata": {},
   "source": [
    "### 3. Write a subroutine that takes as input a “data” vector of observed values, and which outputs the median as well as the bootstrap estimate of the variance of the median, based on r = 100 bootstrap replicates. Simulate N = 200 Pareto distributed random variates with β = 1 and k = 1.05"
   ]
  },
  {
   "cell_type": "code",
   "execution_count": 31,
   "id": "eea167bf",
   "metadata": {},
   "outputs": [],
   "source": [
    "def sample_pareto(n, k, beta):\n",
    "    us = uniform.rvs(size=n)\n",
    "    return beta * us ** (-1/k)\n",
    "\n",
    "n = 200\n",
    "\n",
    "sample = sample_pareto(n, k=1.05, beta=1)\n",
    "\n",
    "bootstrap_samples = np.random.choice(sample, size=(100, n))"
   ]
  },
  {
   "cell_type": "markdown",
   "id": "8cc67f3e",
   "metadata": {},
   "source": [
    "### (a) Compute the mean and the median (of the sample)"
   ]
  },
  {
   "cell_type": "code",
   "execution_count": 32,
   "id": "c9517b6d",
   "metadata": {},
   "outputs": [
    {
     "name": "stdout",
     "output_type": "stream",
     "text": [
      "Sample mean   = 5.46\n",
      "Sample median = 1.90\n"
     ]
    }
   ],
   "source": [
    "sample_mean = np.mean(sample)\n",
    "sample_median = np.median(sample)\n",
    "\n",
    "print(f\"Sample mean   = {sample_mean:.2f}\")\n",
    "print(f\"Sample median = {sample_median:.2f}\")"
   ]
  },
  {
   "cell_type": "markdown",
   "id": "39990af1",
   "metadata": {},
   "source": [
    "### (b) Make the bootstrap estimate of the variance of the sample mean."
   ]
  },
  {
   "cell_type": "code",
   "execution_count": 35,
   "id": "67667835",
   "metadata": {},
   "outputs": [
    {
     "name": "stdout",
     "output_type": "stream",
     "text": [
      "Variance of sample mean (bootsrap estimate): 0.8488\n"
     ]
    }
   ],
   "source": [
    "bs_var_of_sample_mean = np.var(np.mean(bootstrap_samples, axis=1))\n",
    "\n",
    "print(f\"Variance of sample mean (bootsrap estimate): {bs_var_of_sample_mean:.4f}\")"
   ]
  },
  {
   "cell_type": "markdown",
   "id": "5d877cb1",
   "metadata": {},
   "source": [
    "### (c) Make the bootstrap estimate of the variance of the sample median.\n"
   ]
  },
  {
   "cell_type": "code",
   "execution_count": 36,
   "id": "11d1ae9d",
   "metadata": {},
   "outputs": [
    {
     "name": "stdout",
     "output_type": "stream",
     "text": [
      "Variance of sample median (bootsrap estimate): 0.0124\n"
     ]
    }
   ],
   "source": [
    "bs_var_of_sample_median = np.var(np.median(bootstrap_samples, axis=1))\n",
    "\n",
    "print(f\"Variance of sample median (bootsrap estimate): {bs_var_of_sample_median:.4f}\")"
   ]
  },
  {
   "cell_type": "markdown",
   "id": "3e190c72",
   "metadata": {},
   "source": [
    "### (d) Compare the precision of the estimated median with the precision of the estimated mean."
   ]
  },
  {
   "cell_type": "code",
   "execution_count": 42,
   "id": "aa726199",
   "metadata": {},
   "outputs": [
    {
     "name": "stdout",
     "output_type": "stream",
     "text": [
      "Difference of std(sample mean) and std(sample median): 0.8100\n"
     ]
    }
   ],
   "source": [
    "std_mean = np.sqrt(bs_var_of_sample_mean)\n",
    "std_median = np.sqrt(bs_var_of_sample_median)\n",
    "diff_of_stds = std_mean - std_median\n",
    "\n",
    "print(f\"Difference of std(sample mean) and std(sample median): {diff_of_stds:.4f}\")"
   ]
  },
  {
   "cell_type": "code",
   "execution_count": 47,
   "id": "38b0cfcd",
   "metadata": {},
   "outputs": [
    {
     "data": {
      "image/png": "[encoded data removed]",
      "text/plain": [
       "<Figure size 2000x600 with 1 Axes>"
      ]
     },
     "metadata": {},
     "output_type": "display_data"
    }
   ],
   "source": [
    "fig, ax = plt.subplots(1, 1, figsize=(20, 6))\n",
    "ax.hist(sample, range=(0, 25), bins=20, alpha=0.5)\n",
    "ax.axvline(sample_mean, color=\"r\", label=\"Sample mean\")\n",
    "ax.axvline(sample_mean + std_mean, color=\"r\", linestyle=\"--\", label=\"BS est. of std of sample mean\")\n",
    "ax.axvline(sample_mean - std_mean, color=\"r\", linestyle=\"--\")\n",
    "\n",
    "ax.axvline(sample_median, color=\"g\", label=\"Sample median\")\n",
    "ax.axvline(sample_median + std_median, color=\"g\", linestyle=\"--\", label=\"BS est. of std of sample median\")\n",
    "ax.axvline(sample_median - std_median, color=\"g\", linestyle=\"--\")\n",
    "\n",
    "ax.legend()\n",
    "\n",
    "plt.show()"
   ]
  }
 ],
 "metadata": {
  "kernelspec": {
   "display_name": ".venv",
   "language": "python",
   "name": "python3"
  },
  "language_info": {
   "codemirror_mode": {
    "name": "ipython",
    "version": 3
   },
   "file_extension": ".py",
   "mimetype": "text/x-python",
   "name": "python",
   "nbconvert_exporter": "python",
   "pygments_lexer": "ipython3",
   "version": "3.12.8"
  }
 },
 "nbformat": 4,
 "nbformat_minor": 5
}
